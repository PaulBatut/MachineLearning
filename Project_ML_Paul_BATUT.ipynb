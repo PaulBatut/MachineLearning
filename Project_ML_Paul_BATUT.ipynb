{
  "cells": [
    {
      "cell_type": "markdown",
      "metadata": {
        "id": "TkggFqXzvmjv"
      },
      "source": [
        "### Machine Learning Project\n",
        "\n",
        "\n"
      ]
    },
    {
      "cell_type": "code",
      "execution_count": 1,
      "metadata": {
        "id": "Tz7d338Aw1dX"
      },
      "outputs": [],
      "source": [
        "# Import of global libraries\n",
        "\n",
        "import numpy as np\n",
        "import pandas as pd\n",
        "import tensorflow as tf\n",
        "from tensorflow.keras import Model\n",
        "from tensorflow.keras.models import Sequential\n",
        "from tensorflow.keras.layers import Dense\n",
        "from tensorflow.keras.optimizers import SGD"
      ]
    },
    {
      "cell_type": "code",
      "execution_count": 2,
      "metadata": {
        "colab": {
          "base_uri": "https://localhost:8080/"
        },
        "id": "PcYjyTHw1raA",
        "outputId": "03c4e406-cfd7-48e6-d538-201055864daf"
      },
      "outputs": [
        {
          "output_type": "stream",
          "name": "stdout",
          "text": [
            "Mounted at /content/gdrive\n"
          ]
        }
      ],
      "source": [
        "# Drive mounting in Google Colab\n",
        "from google.colab import drive\n",
        "drive.mount(\"/content/gdrive\")"
      ]
    },
    {
      "cell_type": "markdown",
      "metadata": {
        "id": "xgCwQgb0vuaE"
      },
      "source": [
        "Data examination"
      ]
    },
    {
      "cell_type": "code",
      "execution_count": 3,
      "metadata": {
        "colab": {
          "base_uri": "https://localhost:8080/"
        },
        "id": "K904iVTzwpBj",
        "outputId": "d9bc3750-e4be-4b57-d988-ff1a7c8ad38e"
      },
      "outputs": [
        {
          "output_type": "stream",
          "name": "stdout",
          "text": [
            "Dataset length :\n",
            "(15360, 12)\n",
            "Dataset feature names :\n",
            "Index(['Unnamed: 0', 'cfo_demod', 'gain_imb', 'iq_imb', 'or_off', 'quadr_err',\n",
            "       'm_power', 'ph_err', 'mag_err', 'evm', 'Tosc', 'Tmix'],\n",
            "      dtype='object')\n",
            "Whole dataset :\n",
            "       Unnamed: 0   cfo_demod  gain_imb     iq_imb     or_off  quadr_err  \\\n",
            "0               0  592.234802  0.048079 -35.082729 -28.560846   1.993170   \n",
            "1               1 -103.302032 -0.019917 -29.946953 -35.798664  -3.642311   \n",
            "2               2 -582.331299  0.036379 -32.096672 -31.905628   2.835839   \n",
            "3               3 -630.611267  0.063928 -38.216297 -30.084171   1.346316   \n",
            "4               4 -415.526978 -0.055761 -29.180740 -36.601025  -3.963526   \n",
            "...           ...         ...       ...        ...        ...        ...   \n",
            "15355       15355 -476.575653  0.039874 -39.792461 -29.962997   1.143736   \n",
            "15356       15356 -345.645508  0.077925 -32.963398 -27.998444   2.524010   \n",
            "15357       15357 -613.989807  0.090771 -38.951530 -28.111988   1.145893   \n",
            "15358       15358 -997.769531  0.099840 -39.532818 -27.819826   1.014136   \n",
            "15359       15359  450.446838  0.068571 -34.959385 -28.346176   1.996514   \n",
            "\n",
            "        m_power    ph_err   mag_err       evm  Tosc  Tmix  \n",
            "0     -0.499721  1.107926  1.507550  2.423943  39.9  47.6  \n",
            "1     -0.928193  1.236059  2.741568  3.458056  14.8  23.1  \n",
            "2     -1.272485  1.282163  2.140096  3.013522  42.5  48.6  \n",
            "3     -0.596438  1.154848  1.093465  2.254514  26.1  35.4  \n",
            "4      0.113055  1.498889  3.608737  4.286684  24.2  40.8  \n",
            "...         ...       ...       ...       ...   ...   ...  \n",
            "15355 -0.688359  1.175517  1.044636  2.224311  24.6  33.8  \n",
            "15356 -1.135376  1.159356  1.948950  2.761400  55.1  62.7  \n",
            "15357  0.352151  0.995857  0.938308  1.939818  39.5  46.9  \n",
            "15358  0.040398  1.069736  0.875986  2.026062  51.7  58.4  \n",
            "15359 -0.368385  1.035648  1.527475  2.357938  45.4  52.9  \n",
            "\n",
            "[15360 rows x 12 columns]\n"
          ]
        }
      ],
      "source": [
        "# We define the path to the dataset\n",
        "dataset_path = '/content/gdrive/My Drive/Machine_learning_project/x_train.csv'\n",
        "\n",
        "dataset = pd.read_csv(dataset_path)\n",
        "\n",
        "print('Dataset length :')\n",
        "print(dataset.shape)\n",
        "print('Dataset feature names :')\n",
        "print(dataset.columns)\n",
        "print('Whole dataset :')\n",
        "print(dataset)"
      ]
    },
    {
      "cell_type": "markdown",
      "metadata": {
        "id": "bBrY2-C-v0hK"
      },
      "source": [
        "Data preprocessing"
      ]
    },
    {
      "cell_type": "code",
      "execution_count": 4,
      "metadata": {
        "colab": {
          "base_uri": "https://localhost:8080/"
        },
        "id": "tgvVNxa5wq1s",
        "outputId": "b68c5748-ef01-4631-cf9c-c8ef3a3b1622"
      },
      "outputs": [
        {
          "output_type": "stream",
          "name": "stdout",
          "text": [
            "x_train_dummies :         cfo_demod  gain_imb     iq_imb     or_off  quadr_err    ph_err  \\\n",
            "0      592.234802  0.048079 -35.082729 -28.560846   1.993170  1.107926   \n",
            "1     -103.302032 -0.019917 -29.946953 -35.798664  -3.642311  1.236059   \n",
            "2     -582.331299  0.036379 -32.096672 -31.905628   2.835839  1.282163   \n",
            "3     -630.611267  0.063928 -38.216297 -30.084171   1.346316  1.154848   \n",
            "4     -415.526978 -0.055761 -29.180740 -36.601025  -3.963526  1.498889   \n",
            "...           ...       ...        ...        ...        ...       ...   \n",
            "15355 -476.575653  0.039874 -39.792461 -29.962997   1.143736  1.175517   \n",
            "15356 -345.645508  0.077925 -32.963398 -27.998444   2.524010  1.159356   \n",
            "15357 -613.989807  0.090771 -38.951530 -28.111988   1.145893  0.995857   \n",
            "15358 -997.769531  0.099840 -39.532818 -27.819826   1.014136  1.069736   \n",
            "15359  450.446838  0.068571 -34.959385 -28.346176   1.996514  1.035648   \n",
            "\n",
            "        mag_err       evm  \n",
            "0      1.507550  2.423943  \n",
            "1      2.741568  3.458056  \n",
            "2      2.140096  3.013522  \n",
            "3      1.093465  2.254514  \n",
            "4      3.608737  4.286684  \n",
            "...         ...       ...  \n",
            "15355  1.044636  2.224311  \n",
            "15356  1.948950  2.761400  \n",
            "15357  0.938308  1.939818  \n",
            "15358  0.875986  2.026062  \n",
            "15359  1.527475  2.357938  \n",
            "\n",
            "[15360 rows x 8 columns]\n"
          ]
        }
      ],
      "source": [
        "# We import data from the different CSV\n",
        "x_test_original = pd.read_csv('/content/gdrive/My Drive/Machine_learning_project/x_test.csv')\n",
        "x_train_original = pd.read_csv('/content/gdrive/My Drive/Machine_learning_project/x_train.csv')\n",
        "y_train_original = pd.read_csv('/content/gdrive/My Drive/Machine_learning_project/y_train.csv')\n",
        "\n",
        "# We create copies so that we don't break the original files\n",
        "x_test = x_test_original.copy()\n",
        "x_train = x_train_original.copy()\n",
        "y_train = y_train_original.copy()\n",
        "\n",
        "# we only keep the useful data in y_train (column 2)\n",
        "y_train_target = y_train['target']\n",
        "\n",
        "# we classify y_train values into 8 different classes (from 1 to 8 (max value))\n",
        "y_train_dummies = pd.get_dummies(y_train_target)\n",
        "\n",
        "# We remove unwanted features (m_power, tosc, tmix)\n",
        "x_test = x_test.drop(['Unnamed: 0','m_power', 'Tosc', 'Tmix'], axis=1)\n",
        "x_train = x_train.drop(['Unnamed: 0','m_power', 'Tosc', 'Tmix'], axis=1)\n",
        "\n",
        "# We classify x_train values into different classes\n",
        "x_train_dummies = pd.get_dummies(x_train)\n",
        "print('x_train_dummies :', x_train_dummies)"
      ]
    },
    {
      "cell_type": "markdown",
      "metadata": {
        "id": "o9IfnUYyv29Z"
      },
      "source": [
        " Model building"
      ]
    },
    {
      "cell_type": "code",
      "execution_count": 5,
      "metadata": {
        "colab": {
          "base_uri": "https://localhost:8080/"
        },
        "id": "1dYg4NXcwsmO",
        "outputId": "1f468fd7-81a4-4c99-897d-4df89ea923bf"
      },
      "outputs": [
        {
          "output_type": "stream",
          "name": "stdout",
          "text": [
            "Model: \"sequential\"\n",
            "_________________________________________________________________\n",
            " Layer (type)                Output Shape              Param #   \n",
            "=================================================================\n",
            " dense (Dense)               (None, 8)                 72        \n",
            "                                                                 \n",
            " dense_1 (Dense)             (None, 4)                 36        \n",
            "                                                                 \n",
            " dense_2 (Dense)             (None, 8)                 40        \n",
            "                                                                 \n",
            "=================================================================\n",
            "Total params: 148\n",
            "Trainable params: 148\n",
            "Non-trainable params: 0\n",
            "_________________________________________________________________\n"
          ]
        }
      ],
      "source": [
        "# We import libraries for model building\n",
        "from keras import layers\n",
        "from keras.layers import Input, Dense, Activation\n",
        "from keras.models import Sequential\n",
        "\n",
        "model = Sequential()\n",
        "\n",
        "# Wa add an input layer\n",
        "model.add(Input(shape=(8,)))\n",
        "\n",
        "# We add hidden layers\n",
        "model.add(Dense(8, activation = 'relu'))\n",
        "model.add(Dense(4, activation = 'relu'))\n",
        "\n",
        "# We add output layer\n",
        "model.add(Dense(8, activation='softmax'))\n",
        "\n",
        "# We display information about the model\n",
        "model.summary()"
      ]
    },
    {
      "cell_type": "markdown",
      "metadata": {
        "id": "ydh9z6n5v7YO"
      },
      "source": [
        "Model training"
      ]
    },
    {
      "cell_type": "code",
      "execution_count": 11,
      "metadata": {
        "colab": {
          "base_uri": "https://localhost:8080/"
        },
        "id": "l0Hqogxkwt4w",
        "outputId": "f4bf0ba8-0385-402c-bf8d-64f6fb4e27fe"
      },
      "outputs": [
        {
          "output_type": "stream",
          "name": "stdout",
          "text": [
            "X_train shape : (12288, 8)\n",
            "X_test shape : (3072, 8) \n",
            "\n",
            "Epoch 1/100\n",
            "768/768 [==============================] - 3s 3ms/step - loss: 0.2283 - accuracy: 0.5868\n",
            "Epoch 2/100\n",
            "768/768 [==============================] - 2s 3ms/step - loss: 0.2264 - accuracy: 0.5929\n",
            "Epoch 3/100\n",
            "768/768 [==============================] - 2s 3ms/step - loss: 0.2259 - accuracy: 0.5964\n",
            "Epoch 4/100\n",
            "768/768 [==============================] - 2s 3ms/step - loss: 0.2255 - accuracy: 0.6051\n",
            "Epoch 5/100\n",
            "768/768 [==============================] - 2s 3ms/step - loss: 0.2269 - accuracy: 0.5912\n",
            "Epoch 6/100\n",
            "768/768 [==============================] - 2s 3ms/step - loss: 0.2280 - accuracy: 0.5819\n",
            "Epoch 7/100\n",
            "768/768 [==============================] - 3s 4ms/step - loss: 0.2255 - accuracy: 0.5999\n",
            "Epoch 8/100\n",
            "768/768 [==============================] - 2s 3ms/step - loss: 0.2251 - accuracy: 0.5967\n",
            "Epoch 9/100\n",
            "768/768 [==============================] - 2s 3ms/step - loss: 0.2259 - accuracy: 0.5963\n",
            "Epoch 10/100\n",
            "768/768 [==============================] - 2s 3ms/step - loss: 0.2273 - accuracy: 0.5867\n",
            "Epoch 11/100\n",
            "768/768 [==============================] - 2s 3ms/step - loss: 0.2315 - accuracy: 0.5900\n",
            "Epoch 12/100\n",
            "768/768 [==============================] - 2s 3ms/step - loss: 0.2366 - accuracy: 0.5634\n",
            "Epoch 13/100\n",
            "768/768 [==============================] - 3s 4ms/step - loss: 0.2223 - accuracy: 0.6172\n",
            "Epoch 14/100\n",
            "768/768 [==============================] - 2s 3ms/step - loss: 0.2287 - accuracy: 0.5949\n",
            "Epoch 15/100\n",
            "768/768 [==============================] - 2s 3ms/step - loss: 0.2249 - accuracy: 0.6044\n",
            "Epoch 16/100\n",
            "768/768 [==============================] - 2s 3ms/step - loss: 0.2252 - accuracy: 0.6008\n",
            "Epoch 17/100\n",
            "768/768 [==============================] - 2s 3ms/step - loss: 0.2240 - accuracy: 0.5999\n",
            "Epoch 18/100\n",
            "768/768 [==============================] - 2s 3ms/step - loss: 0.2263 - accuracy: 0.5925\n",
            "Epoch 19/100\n",
            "768/768 [==============================] - 3s 3ms/step - loss: 0.2284 - accuracy: 0.5854\n",
            "Epoch 20/100\n",
            "768/768 [==============================] - 3s 3ms/step - loss: 0.2238 - accuracy: 0.6018\n",
            "Epoch 21/100\n",
            "768/768 [==============================] - 2s 3ms/step - loss: 0.2279 - accuracy: 0.5884\n",
            "Epoch 22/100\n",
            "768/768 [==============================] - 2s 3ms/step - loss: 0.2260 - accuracy: 0.5968\n",
            "Epoch 23/100\n",
            "768/768 [==============================] - 2s 3ms/step - loss: 0.2255 - accuracy: 0.5926\n",
            "Epoch 24/100\n",
            "768/768 [==============================] - 3s 3ms/step - loss: 0.2248 - accuracy: 0.5965\n",
            "Epoch 25/100\n",
            "768/768 [==============================] - 4s 5ms/step - loss: 0.2242 - accuracy: 0.6027\n",
            "Epoch 26/100\n",
            "768/768 [==============================] - 2s 3ms/step - loss: 0.2304 - accuracy: 0.5871\n",
            "Epoch 27/100\n",
            "768/768 [==============================] - 2s 3ms/step - loss: 0.2238 - accuracy: 0.6046\n",
            "Epoch 28/100\n",
            "768/768 [==============================] - 2s 3ms/step - loss: 0.2240 - accuracy: 0.6007\n",
            "Epoch 29/100\n",
            "768/768 [==============================] - 2s 3ms/step - loss: 0.2246 - accuracy: 0.6006\n",
            "Epoch 30/100\n",
            "768/768 [==============================] - 2s 3ms/step - loss: 0.2243 - accuracy: 0.6038\n",
            "Epoch 31/100\n",
            "768/768 [==============================] - 3s 4ms/step - loss: 0.2250 - accuracy: 0.5986\n",
            "Epoch 32/100\n",
            "768/768 [==============================] - 2s 3ms/step - loss: 0.2253 - accuracy: 0.5925\n",
            "Epoch 33/100\n",
            "768/768 [==============================] - 2s 3ms/step - loss: 0.2236 - accuracy: 0.5992\n",
            "Epoch 34/100\n",
            "768/768 [==============================] - 2s 3ms/step - loss: 0.2278 - accuracy: 0.5790\n",
            "Epoch 35/100\n",
            "768/768 [==============================] - 2s 3ms/step - loss: 0.2274 - accuracy: 0.5828\n",
            "Epoch 36/100\n",
            "768/768 [==============================] - 2s 3ms/step - loss: 0.2272 - accuracy: 0.5875\n",
            "Epoch 37/100\n",
            "768/768 [==============================] - 3s 4ms/step - loss: 0.2234 - accuracy: 0.6064\n",
            "Epoch 38/100\n",
            "768/768 [==============================] - 5s 6ms/step - loss: 0.2244 - accuracy: 0.5975\n",
            "Epoch 39/100\n",
            "768/768 [==============================] - 3s 4ms/step - loss: 0.2243 - accuracy: 0.6006\n",
            "Epoch 40/100\n",
            "768/768 [==============================] - 3s 4ms/step - loss: 0.2245 - accuracy: 0.5964\n",
            "Epoch 41/100\n",
            "768/768 [==============================] - 2s 3ms/step - loss: 0.2262 - accuracy: 0.5892\n",
            "Epoch 42/100\n",
            "768/768 [==============================] - 3s 4ms/step - loss: 0.2257 - accuracy: 0.6005\n",
            "Epoch 43/100\n",
            "768/768 [==============================] - 2s 3ms/step - loss: 0.2244 - accuracy: 0.5986\n",
            "Epoch 44/100\n",
            "768/768 [==============================] - 3s 3ms/step - loss: 0.2237 - accuracy: 0.6104\n",
            "Epoch 45/100\n",
            "768/768 [==============================] - 2s 3ms/step - loss: 0.2233 - accuracy: 0.6097\n",
            "Epoch 46/100\n",
            "768/768 [==============================] - 3s 3ms/step - loss: 0.2246 - accuracy: 0.6117\n",
            "Epoch 47/100\n",
            "768/768 [==============================] - 4s 5ms/step - loss: 0.2226 - accuracy: 0.6184\n",
            "Epoch 48/100\n",
            "768/768 [==============================] - 2s 3ms/step - loss: 0.2244 - accuracy: 0.6055\n",
            "Epoch 49/100\n",
            "768/768 [==============================] - 2s 3ms/step - loss: 0.2233 - accuracy: 0.6117\n",
            "Epoch 50/100\n",
            "768/768 [==============================] - 2s 3ms/step - loss: 0.2260 - accuracy: 0.6036\n",
            "Epoch 51/100\n",
            "768/768 [==============================] - 2s 3ms/step - loss: 0.2313 - accuracy: 0.5753\n",
            "Epoch 52/100\n",
            "768/768 [==============================] - 4s 5ms/step - loss: 0.2269 - accuracy: 0.5903\n",
            "Epoch 53/100\n",
            "768/768 [==============================] - 3s 4ms/step - loss: 0.2224 - accuracy: 0.6144\n",
            "Epoch 54/100\n",
            "768/768 [==============================] - 2s 3ms/step - loss: 0.2302 - accuracy: 0.5810\n",
            "Epoch 55/100\n",
            "768/768 [==============================] - 2s 3ms/step - loss: 0.2217 - accuracy: 0.6278\n",
            "Epoch 56/100\n",
            "768/768 [==============================] - 2s 3ms/step - loss: 0.2286 - accuracy: 0.5827\n",
            "Epoch 57/100\n",
            "768/768 [==============================] - 2s 3ms/step - loss: 0.2236 - accuracy: 0.6065\n",
            "Epoch 58/100\n",
            "768/768 [==============================] - 3s 3ms/step - loss: 0.2320 - accuracy: 0.5737\n",
            "Epoch 59/100\n",
            "768/768 [==============================] - 2s 3ms/step - loss: 0.2258 - accuracy: 0.5957\n",
            "Epoch 60/100\n",
            "768/768 [==============================] - 2s 3ms/step - loss: 0.2241 - accuracy: 0.6000\n",
            "Epoch 61/100\n",
            "768/768 [==============================] - 2s 3ms/step - loss: 0.2250 - accuracy: 0.5931\n",
            "Epoch 62/100\n",
            "768/768 [==============================] - 2s 3ms/step - loss: 0.2198 - accuracy: 0.5921\n",
            "Epoch 63/100\n",
            "768/768 [==============================] - 2s 3ms/step - loss: 0.2062 - accuracy: 0.6392\n",
            "Epoch 64/100\n",
            "768/768 [==============================] - 2s 3ms/step - loss: 0.2085 - accuracy: 0.6812\n",
            "Epoch 65/100\n",
            "768/768 [==============================] - 3s 4ms/step - loss: 0.2107 - accuracy: 0.6720\n",
            "Epoch 66/100\n",
            "768/768 [==============================] - 2s 3ms/step - loss: 0.2012 - accuracy: 0.7021\n",
            "Epoch 67/100\n",
            "768/768 [==============================] - 2s 3ms/step - loss: 0.2056 - accuracy: 0.6725\n",
            "Epoch 68/100\n",
            "768/768 [==============================] - 2s 3ms/step - loss: 0.1915 - accuracy: 0.7252\n",
            "Epoch 69/100\n",
            "768/768 [==============================] - 2s 3ms/step - loss: 0.2031 - accuracy: 0.6852\n",
            "Epoch 70/100\n",
            "768/768 [==============================] - 3s 3ms/step - loss: 0.1980 - accuracy: 0.7024\n",
            "Epoch 71/100\n",
            "768/768 [==============================] - 3s 4ms/step - loss: 0.1956 - accuracy: 0.7081\n",
            "Epoch 72/100\n",
            "768/768 [==============================] - 2s 3ms/step - loss: 0.1984 - accuracy: 0.6896\n",
            "Epoch 73/100\n",
            "768/768 [==============================] - 2s 3ms/step - loss: 0.1878 - accuracy: 0.7345\n",
            "Epoch 74/100\n",
            "768/768 [==============================] - 2s 3ms/step - loss: 0.1897 - accuracy: 0.7225\n",
            "Epoch 75/100\n",
            "768/768 [==============================] - 2s 3ms/step - loss: 0.1941 - accuracy: 0.7118\n",
            "Epoch 76/100\n",
            "768/768 [==============================] - 2s 3ms/step - loss: 0.1898 - accuracy: 0.7188\n",
            "Epoch 77/100\n",
            "768/768 [==============================] - 3s 3ms/step - loss: 0.1896 - accuracy: 0.7227\n",
            "Epoch 78/100\n",
            "768/768 [==============================] - 2s 3ms/step - loss: 0.1904 - accuracy: 0.7239\n",
            "Epoch 79/100\n",
            "768/768 [==============================] - 2s 3ms/step - loss: 0.1867 - accuracy: 0.7324\n",
            "Epoch 80/100\n",
            "768/768 [==============================] - 2s 3ms/step - loss: 0.1836 - accuracy: 0.7417\n",
            "Epoch 81/100\n",
            "768/768 [==============================] - 2s 3ms/step - loss: 0.2034 - accuracy: 0.6747\n",
            "Epoch 82/100\n",
            "768/768 [==============================] - 2s 3ms/step - loss: 0.1981 - accuracy: 0.6871\n",
            "Epoch 83/100\n",
            "768/768 [==============================] - 3s 4ms/step - loss: 0.1935 - accuracy: 0.7060\n",
            "Epoch 84/100\n",
            "768/768 [==============================] - 2s 3ms/step - loss: 0.1903 - accuracy: 0.7217\n",
            "Epoch 85/100\n",
            "768/768 [==============================] - 2s 3ms/step - loss: 0.1831 - accuracy: 0.7384\n",
            "Epoch 86/100\n",
            "768/768 [==============================] - 2s 3ms/step - loss: 0.1944 - accuracy: 0.7021\n",
            "Epoch 87/100\n",
            "768/768 [==============================] - 2s 3ms/step - loss: 0.1912 - accuracy: 0.7078\n",
            "Epoch 88/100\n",
            "768/768 [==============================] - 2s 3ms/step - loss: 0.1828 - accuracy: 0.7409\n",
            "Epoch 89/100\n",
            "768/768 [==============================] - 3s 4ms/step - loss: 0.1811 - accuracy: 0.7478\n",
            "Epoch 90/100\n",
            "768/768 [==============================] - 2s 3ms/step - loss: 0.1792 - accuracy: 0.7467\n",
            "Epoch 91/100\n",
            "768/768 [==============================] - 2s 3ms/step - loss: 0.1844 - accuracy: 0.7327\n",
            "Epoch 92/100\n",
            "768/768 [==============================] - 2s 3ms/step - loss: 0.1777 - accuracy: 0.7494\n",
            "Epoch 93/100\n",
            "768/768 [==============================] - 2s 3ms/step - loss: 0.1768 - accuracy: 0.7584\n",
            "Epoch 94/100\n",
            "768/768 [==============================] - 2s 3ms/step - loss: 0.1795 - accuracy: 0.7394\n",
            "Epoch 95/100\n",
            "768/768 [==============================] - 3s 4ms/step - loss: 0.1894 - accuracy: 0.7160\n",
            "Epoch 96/100\n",
            "768/768 [==============================] - 2s 3ms/step - loss: 0.1803 - accuracy: 0.7431\n",
            "Epoch 97/100\n",
            "768/768 [==============================] - 2s 3ms/step - loss: 0.1874 - accuracy: 0.7248\n",
            "Epoch 98/100\n",
            "768/768 [==============================] - 2s 3ms/step - loss: 0.1810 - accuracy: 0.7375\n",
            "Epoch 99/100\n",
            "768/768 [==============================] - 2s 3ms/step - loss: 0.1769 - accuracy: 0.7447\n",
            "Epoch 100/100\n",
            "768/768 [==============================] - 2s 3ms/step - loss: 0.1795 - accuracy: 0.7372\n"
          ]
        }
      ],
      "source": [
        "# We import test_train_split\n",
        "from sklearn.model_selection import train_test_split\n",
        "\n",
        "# We split the data for training and validation\n",
        "X_train, X_test, Y_train, Y_test = train_test_split(x_train_dummies, y_train_dummies, test_size=0.2)\n",
        "print('X_train shape :', X_train.shape)\n",
        "print('X_test shape :', X_test.shape, '\\n')\n",
        "\n",
        "optimizer = tf.keras.optimizers.SGD(learning_rate=0.01)\n",
        "model.compile(loss='binary_crossentropy', optimizer=optimizer, metrics=['accuracy'])\n",
        "\n",
        "# We train the model\n",
        "history = model.fit(X_train, Y_train, epochs=300, batch_size=16, verbose=1)"
      ]
    },
    {
      "cell_type": "markdown",
      "metadata": {
        "id": "Oc5_EQb1v62a"
      },
      "source": []
    },
    {
      "cell_type": "markdown",
      "metadata": {
        "id": "KfChcKXdYSJn"
      },
      "source": [
        "After multiple tests, the best parameters are:\n",
        "  - 2 hidden layers with ReLU:\n",
        "  - First layer with 8 neurons;\n",
        "  - Second layer with 4 neurons;\n",
        "  -epochs = 300;\n",
        "  -learning_rate = 0.01; \n",
        "  -batch_size = 16;\n",
        "  -test_size = 0.2;\n",
        "  \n",
        "\n"
      ]
    },
    {
      "cell_type": "markdown",
      "metadata": {
        "id": "d-CdAvajwA0J"
      },
      "source": [
        "\n",
        "\n",
        "Model evaluation"
      ]
    },
    {
      "cell_type": "code",
      "execution_count": 12,
      "metadata": {
        "colab": {
          "base_uri": "https://localhost:8080/",
          "height": 950
        },
        "id": "BeUMxymtwwkG",
        "outputId": "5c74d698-c35f-42cb-ccc5-29a2d664203a"
      },
      "outputs": [
        {
          "output_type": "stream",
          "name": "stdout",
          "text": [
            "Loss: 17.65%\n",
            "Accuracy: 77.94%\n",
            "\n"
          ]
        },
        {
          "output_type": "execute_result",
          "data": {
            "text/plain": [
              "Text(0, 0.5, 'Accuracy')"
            ]
          },
          "metadata": {},
          "execution_count": 12
        },
        {
          "output_type": "display_data",
          "data": {
            "text/plain": [
              "<Figure size 640x480 with 1 Axes>"
            ],
            "image/png": "[encoded data removed]"
          },
          "metadata": {}
        },
        {
          "output_type": "display_data",
          "data": {
            "text/plain": [
              "<Figure size 640x480 with 1 Axes>"
            ],
            "image/png": "[encoded data removed]"
          },
          "metadata": {}
        }
      ],
      "source": [
        "# We import libraries for the model evaluation\n",
        "from keras.utils.vis_utils import plot_model\n",
        "import matplotlib.pyplot as plt\n",
        "\n",
        "# We see how our model performs\n",
        "loss, accuracy = model.evaluate(X_train, Y_train, verbose=0)\n",
        "plot_model(model, to_file='model_plot.png', show_shapes=True, show_layer_names=True)\n",
        "\n",
        "# We check our accuracy and loss at the end\n",
        "print('Loss: {:.2f}%'.format(loss*100))\n",
        "print('Accuracy: {:.2f}%\\n'.format(accuracy*100))\n",
        "\n",
        "# We display our loss and accuracy graph\n",
        "plt.figure()\n",
        "plt.plot(history.history['loss'])\n",
        "plt.xlabel('N° of epochs')\n",
        "plt.ylabel('Loss')\n",
        "\n",
        "plt.figure()\n",
        "plt.plot(history.history['accuracy'])\n",
        "plt.xlabel('N° of epochs')\n",
        "plt.ylabel('Accuracy')"
      ]
    },
    {
      "cell_type": "markdown",
      "metadata": {
        "id": "07ctVdi6wXUP"
      },
      "source": [
        "MLP vs SVM"
      ]
    },
    {
      "cell_type": "code",
      "execution_count": 18,
      "metadata": {
        "colab": {
          "base_uri": "https://localhost:8080/"
        },
        "id": "XGMkr4b-wySP",
        "outputId": "3cdd88d2-da9f-4033-cbb5-9dad05a558bc"
      },
      "outputs": [
        {
          "output_type": "stream",
          "name": "stdout",
          "text": [
            "SVM parameters : {'C': 1.0, 'break_ties': False, 'cache_size': 200, 'class_weight': None, 'coef0': 0.0, 'decision_function_shape': 'ovr', 'degree': 3, 'gamma': 'scale', 'kernel': 'linear', 'max_iter': -1, 'probability': False, 'random_state': None, 'shrinking': True, 'tol': 0.001, 'verbose': False}\n",
            "SVM score : 0.9996744791666666\n"
          ]
        }
      ],
      "source": [
        "# We import SVC\n",
        "from sklearn.svm import SVC\n",
        "\n",
        "# We split training data into train and validation\n",
        "X_train, X_test, Y_train, Y_test = train_test_split(x_train_dummies, y_train_target, test_size=0.2)\n",
        "\n",
        "# We create a  model using SVC\n",
        "SVMmodel=SVC(kernel='linear') # Linear kernel will search for separate lines --> Definition of the kernel parameters\n",
        "SVMmodel.fit(X_train, Y_train)\n",
        "\n",
        "# We get the parameters of our model\n",
        "SVMmodel.get_params()\n",
        "print('SVM parameters :', SVMmodel.get_params())\n",
        "SVMmodel.score(X_test, Y_test)\n",
        "print('SVM score :', SVMmodel.score(X_test, Y_test))"
      ]
    },
    {
      "cell_type": "markdown",
      "metadata": {
        "id": "jxR714ArvKnI"
      },
      "source": [
        "Kaggle CSV file \n"
      ]
    },
    {
      "cell_type": "code",
      "execution_count": 19,
      "metadata": {
        "colab": {
          "base_uri": "https://localhost:8080/"
        },
        "id": "F_AskVuNvJ0m",
        "outputId": "1cbd3d4d-7748-42a6-c91b-6dfbe44a7426"
      },
      "outputs": [
        {
          "output_type": "stream",
          "name": "stdout",
          "text": [
            "120/120 [==============================] - 0s 1ms/step\n",
            "y_predict :\n",
            "(3840, 8)\n",
            "[[0.0000000e+00 7.8809768e-25 2.5465518e-26 ... 0.0000000e+00\n",
            "  0.0000000e+00 0.0000000e+00]\n",
            " [2.5594499e-02 6.4609093e-03 2.6580361e-01 ... 3.2128698e-01\n",
            "  4.6551814e-03 3.7587860e-01]\n",
            " [0.0000000e+00 3.5503495e-26 4.5914757e-28 ... 0.0000000e+00\n",
            "  0.0000000e+00 0.0000000e+00]\n",
            " ...\n",
            " [4.4261891e-01 4.7596931e-01 5.4589973e-04 ... 5.7327889e-02\n",
            "  8.3910034e-19 2.3537958e-02]\n",
            " [1.6658194e-02 4.9147303e-03 6.4385885e-01 ... 7.6542102e-02\n",
            "  8.3417326e-02 1.6730623e-01]\n",
            " [4.4694117e-01 4.5128071e-01 8.1643264e-04 ... 7.0617430e-02\n",
            "  4.6348774e-18 3.0344309e-02]]\n",
            "y_test :\n",
            "(3840, 1)\n",
            "[[5]\n",
            " [8]\n",
            " [5]\n",
            " ...\n",
            " [2]\n",
            " [3]\n",
            " [2]]\n"
          ]
        }
      ],
      "source": [
        "# We predict the model\n",
        "y_predict = model.predict(x_test)\n",
        "\n",
        "# We display y_pred\n",
        "print('y_predict :')\n",
        "print(y_predict.shape)\n",
        "print(y_predict)\n",
        "\n",
        "# We get column index of highest value for each line\n",
        "y_test = np.argmax(y_predict, axis=1)\n",
        "y_test = y_test.reshape(3840, 1)\n",
        "\n",
        "# We add 1 to each line\n",
        "for i in range(len(y_test)):\n",
        "  y_test[i] += 1\n",
        "\n",
        "# We display y_test\n",
        "print('y_test :')\n",
        "print(y_test.shape)\n",
        "print(y_test)\n",
        "\n",
        "# We create a dataframe\n",
        "y_test_dataframe = pd.DataFrame(y_test, columns=['target'])\n",
        "\n",
        "# We save this dataframe into a CSV file \n",
        "y_test_dataframe.to_csv('y_test.csv', index_label='id') "
      ]
    }
  ],
  "metadata": {
    "accelerator": "GPU",
    "colab": {
      "provenance": []
    },
    "gpuClass": "standard",
    "kernelspec": {
      "display_name": "Python 3",
      "name": "python3"
    },
    "language_info": {
      "name": "python"
    }
  },
  "nbformat": 4,
  "nbformat_minor": 0
}